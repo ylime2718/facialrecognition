{
 "cells": [
  {
   "cell_type": "markdown",
   "metadata": {
    "deletable": false,
    "editable": false,
    "id": "4Owx-i6IAfa8",
    "nbgrader": {
     "checksum": "1e00eb7c66c8ca232c42f3246f1e23f9",
     "grade": false,
     "grade_id": "cell-484d568322c19544",
     "locked": true,
     "schema_version": 1,
     "solution": false
    }
   },
   "source": [
    "<h2>Import NumPy and Check Python Version</h2>\n",
    "\n",
    "First, you must import NumPy. Let's also check our version of Python. We've added the code for you for this first step."
   ]
  },
  {
   "cell_type": "code",
   "execution_count": 1,
   "metadata": {
    "colab": {
     "base_uri": "https://localhost:8080/"
    },
    "deletable": false,
    "executionInfo": {
     "elapsed": 5,
     "status": "ok",
     "timestamp": 1653000225418,
     "user": {
      "displayName": "Emily Carroll",
      "userId": "09649305878166807673"
     },
     "user_tz": 420
    },
    "id": "otaUQGL6Afa9",
    "nbgrader": {
     "checksum": "58b2d481aff69efcd677709a04a0b9bd",
     "grade": false,
     "grade_id": "cell-855640210fb50121",
     "locked": true,
     "schema_version": 1,
     "solution": false
    },
    "outputId": "292dc42d-d677-4714-84a0-83292e4124e0"
   },
   "outputs": [
    {
     "name": "stdout",
     "output_type": "stream",
     "text": [
      "You're running python 3.9.12\n"
     ]
    }
   ],
   "source": [
    "import sys\n",
    "import numpy as np\n",
    "from pylab import * \n",
    "print('You\\'re running python %s' % sys.version.split(' ')[0])"
   ]
  },
  {
   "cell_type": "markdown",
   "metadata": {
    "deletable": false,
    "editable": false,
    "id": "8KMLfM3MAfa-",
    "nbgrader": {
     "checksum": "8d5761fa1b470a771882a59ea3ba1e40",
     "grade": false,
     "grade_id": "cell-76ba5d8756566b5b",
     "locked": true,
     "schema_version": 1,
     "solution": false
    }
   },
   "source": [
    "\n",
    "<h2> Euclidean Distances in Python </h2>\n",
    "\n",
    "<p>Many machine learning algorithms access their input data primarily through pairwise (Euclidean) distances, therefore it is important that we have a fast function that computes pairwise distances of input vectors.</p>\n",
    "<p>Assume we have $n$ row data vectors $\\mathbf{x_1}, \\dots, \\mathbf{x_n} \\in \\mathcal{R}^d$ and $m$ row vectors $\\mathbf{z_1}, \\dots, \\mathbf{z_m} \\in \\mathcal{R}^d$. With these data vectors, let us define two matrices $X = \\left[ \\mathbf{x_1}^\\top, \\dots, \\mathbf{x_n}^\\top \\right]^\\top \\in \\mathcal{R}^{n \\times d}$, where the $i^{th}$ row is vector $\\mathbf{x_i}$, and $Z = \\left[ \\mathbf{z_1}^\\top, \\dots, \\mathbf{z_m}^\\top \\right]^\\top \\in \\mathcal{R}^{m \\times d}$.We want a distance function that takes as input these two matrices $X$ and $Z$ and outputs a matrix $D\\in{\\cal R}^{n\\times m}$, where \n",
    "\t$$D_{ij}=\\sqrt{(\\mathbf{x_i}-\\mathbf{z_j})(\\mathbf{x_i}-\\mathbf{z_j})^\\top}.$$\n",
    "</p>"
   ]
  },
  {
   "cell_type": "markdown",
   "metadata": {
    "deletable": false,
    "editable": false,
    "id": "JTkXprPaAfa_",
    "nbgrader": {
     "checksum": "94f5161087aa0a72e1a6c0fda5a43e51",
     "grade": false,
     "grade_id": "cell-80d59217b0d669d1",
     "locked": true,
     "schema_version": 1,
     "solution": false
    }
   },
   "source": [
    "A naïve implementation to compute pairwise distances may look like the code below:"
   ]
  },
  {
   "cell_type": "code",
   "execution_count": 2,
   "metadata": {
    "deletable": false,
    "editable": false,
    "id": "HjMWMCvgAfa_",
    "nbgrader": {
     "checksum": "f34233f540af1404dd432d2f13f72dfb",
     "grade": false,
     "grade_id": "cell-3724f30031f0f96e",
     "locked": true,
     "schema_version": 1,
     "solution": false
    }
   },
   "outputs": [],
   "source": [
    "def l2distanceSlow(X,Z=None):\n",
    "    if Z is None:\n",
    "        Z = X\n",
    "    \n",
    "    n, d = X.shape     # dimension of X\n",
    "    m= Z.shape[0]   # dimension of Z\n",
    "    D=np.zeros((n,m)) # allocate memory for the output matrix\n",
    "    for i in range(n):     # loop over vectors in X\n",
    "        for j in range(m): # loop over vectors in Z\n",
    "            D[i,j]=0.0; \n",
    "            for k in range(d): # loop over dimensions\n",
    "                D[i,j]=D[i,j]+(X[i,k]-Z[j,k])**2; # compute l2-distance between the ith and jth vector\n",
    "            D[i,j]=np.sqrt(D[i,j]); # take square root\n",
    "    return D"
   ]
  },
  {
   "cell_type": "markdown",
   "metadata": {
    "deletable": false,
    "editable": false,
    "id": "YBJuhykHAfbA",
    "nbgrader": {
     "checksum": "febf9c6b00243bdaf424e53d81326846",
     "grade": false,
     "grade_id": "cell-768d33132116bada",
     "locked": true,
     "schema_version": 1,
     "solution": false
    }
   },
   "source": [
    "This naive version is perfectly correct and will produce the correct result... eventually. To see what is wrong, run the <code>l2distanceSlow</code> code below on an extremely small matrix <code>X</code>.\n"
   ]
  },
  {
   "cell_type": "code",
   "execution_count": 3,
   "metadata": {
    "colab": {
     "base_uri": "https://localhost:8080/"
    },
    "deletable": false,
    "editable": false,
    "executionInfo": {
     "elapsed": 46487,
     "status": "ok",
     "timestamp": 1653000279880,
     "user": {
      "displayName": "Emily Carroll",
      "userId": "09649305878166807673"
     },
     "user_tz": 420
    },
    "id": "OAARN_aAAfbB",
    "nbgrader": {
     "checksum": "e1c612af640ce3216262f792202cd2cd",
     "grade": false,
     "grade_id": "cell-1afe58e13cd02172",
     "locked": true,
     "schema_version": 1,
     "solution": false
    },
    "outputId": "79cdde00-d43d-49df-8d21-635edfd58546"
   },
   "outputs": [
    {
     "name": "stdout",
     "output_type": "stream",
     "text": [
      "Running the naive version, please wait...\n",
      "CPU times: user 35.2 s, sys: 45.2 ms, total: 35.3 s\n",
      "Wall time: 35.3 s\n"
     ]
    }
   ],
   "source": [
    "X=np.random.rand(700,100)\n",
    "print(\"Running the naive version, please wait...\")\n",
    "%time Dslow=l2distanceSlow(X)"
   ]
  },
  {
   "cell_type": "markdown",
   "metadata": {
    "deletable": false,
    "id": "ggxbJltnAfbB",
    "nbgrader": {
     "checksum": "9e9b899c5a8f844418aba245eccb932c",
     "grade": false,
     "grade_id": "cell-60d671b817b29b1c",
     "locked": true,
     "schema_version": 1,
     "solution": false
    }
   },
   "source": [
    "This code defines some random data in $X$ and computes the corresponding distance matrix $D$. The <em>%time</em> statement determines how long this code takes to run. This implementation is much too slow for such a simple operation on a small amount of data, and writing code like this to deal with matrices will result in code that takes <strong>days</strong> to run.\n",
    "\n",
    "\n",
    "\n"
   ]
  },
  {
   "cell_type": "markdown",
   "metadata": {
    "deletable": false,
    "editable": false,
    "id": "fG3C2W1cAfbC",
    "nbgrader": {
     "checksum": "b9ddf2543b76b701af52ed19e7ddba06",
     "grade": false,
     "grade_id": "cell-4b648ecf382bce9f",
     "locked": true,
     "schema_version": 1,
     "solution": false
    }
   },
   "source": [
    "<h2> Efficient Programming with NumPy </h2>\n",
    "\n",
    "<p>The key to efficient programming in Python for machine learning in general is to think about it in terms of mathematics and not in terms of loops. </p>"
   ]
  },
  {
   "cell_type": "markdown",
   "metadata": {
    "deletable": false,
    "editable": false,
    "id": "kqXIkwJiAfbC",
    "nbgrader": {
     "checksum": "2f426d85d0d95b8ac7d7ef21bf1c938f",
     "grade": false,
     "grade_id": "cell-ccba76afed0964c4",
     "locked": true,
     "schema_version": 1,
     "solution": false
    }
   },
   "source": [
    "<h3>Inner-Product Matrix</h3>\n",
    "\n",
    "<p>The Inner-Product Matrix (Gram matrix) can be expressed in terms of pure matrix multiplication.\n",
    "\n",
    "$$\tG_{ij}=\\mathbf{x}_i\\mathbf{z}_j^\\top $$"
   ]
  },
  {
   "cell_type": "code",
   "execution_count": 4,
   "metadata": {
    "deletable": false,
    "id": "Bg8gVn-CAfbD",
    "nbgrader": {
     "checksum": "94f9fb0ec9ba184ef42b5cffc56c5981",
     "grade": false,
     "grade_id": "cell-Innerproduct",
     "locked": false,
     "schema_version": 1,
     "solution": true
    }
   },
   "outputs": [],
   "source": [
    "def innerproduct(X,Z=None):\n",
    "    '''\n",
    "    function innerproduct(X,Z)\n",
    "    \n",
    "    Computes the inner-product matrix.\n",
    "    Syntax:\n",
    "    D=innerproduct(X,Z)\n",
    "    Input:\n",
    "    X: nxd data matrix with n vectors (rows) of dimensionality d\n",
    "    Z: mxd data matrix with m vectors (rows) of dimensionality d\n",
    "    \n",
    "    Output:\n",
    "    Matrix G of size nxm\n",
    "    G[i,j] is the inner-product between vectors X[i,:] and Z[j,:]\n",
    "    \n",
    "    call with only one input:\n",
    "    innerproduct(X)=innerproduct(X,X)\n",
    "    '''\n",
    "    if Z is None: # case when there is only one input (X)\n",
    "        Z=X;\n",
    "    \n",
    "    # G Matrix\n",
    "    \n",
    "    # X is an nxd matrix\n",
    "    # Z is an mxd matrix, so Z.T is a dxm matrix\n",
    "    # Now with matching last/first dimensions, I can take the dot product of these matrices\n",
    "    \n",
    "    # The (ij) element in the Gram matrix needs to be the dot product of the (i) component and the transpose of the\n",
    "    # (j) component of Z matrix.\n",
    "    # I pictured X as a single column of length n, where each component is an array of length d.\n",
    "    # I pictured Z as a single column of length m, where each component is an array of length d as well.\n",
    "    # By taking the transpose of Z, I transform it into a row, and the dot product of X and Z.T has dimensions nxm.\n",
    "    \n",
    "    G = X @ Z.T\n",
    "    return G"
   ]
  },
  {
   "cell_type": "code",
   "execution_count": 5,
   "metadata": {
    "colab": {
     "base_uri": "https://localhost:8080/"
    },
    "executionInfo": {
     "elapsed": 162,
     "status": "ok",
     "timestamp": 1653000291563,
     "user": {
      "displayName": "Emily Carroll",
      "userId": "09649305878166807673"
     },
     "user_tz": 420
    },
    "id": "uEmsoqD8AfbD",
    "outputId": "ce5354e1-9010-4f2b-dc05-055075d260d9"
   },
   "outputs": [
    {
     "name": "stdout",
     "output_type": "stream",
     "text": [
      "[[ 9 12 15]\n",
      " [19 26 33]]\n"
     ]
    }
   ],
   "source": [
    "# Simple test case\n",
    "X = np.array([[1,2],[3,4]])\n",
    "Z = np.array([[1,4],[2,5],[3,6]])\n",
    "\n",
    "print(innerproduct(X,Z))"
   ]
  },
  {
   "cell_type": "markdown",
   "metadata": {
    "deletable": false,
    "editable": false,
    "id": "AEwUyNs_AfbF",
    "nbgrader": {
     "checksum": "0feb4e1272a992b5b887c904418c766d",
     "grade": false,
     "grade_id": "cell-7ccd44521656109e",
     "locked": true,
     "schema_version": 1,
     "solution": false
    }
   },
   "source": [
    "### Implement `calculate_S` and `calculate_R`\n",
    "\n",
    "Let us define two new matrices, $S, R \\in \\mathcal{R}^{n \\times m}$\n",
    "$$\n",
    "S_ij = \\mathbf{x}_i \\mathbf{x}_i^\\top, \\ \\ R_{ij} = \\mathbf{z}_j \\mathbf{z}_j^\\top\n",
    "$$\n",
    "\n",
    "We have shown that the _squared_-euclidean matrix $D^2 \\in \\mathcal{R}^{n \\times m}$, defined as\n",
    "$$\n",
    "D_{ij}^2 = (\\mathbf{x}_i - \\mathbf{z}_j)(\\mathbf{x}_i - \\mathbf{z}_j)^\\top,\n",
    "$$\n",
    "can be expressed as\n",
    "$$\n",
    "D^2 = S + R - 2G.\n",
    "$$\n",
    "\n",
    "The `l2distance` will calculate $D$, which needs $S$ and $R$, which are found in **`calculate_S`** and **`calculate_R`** respectively. These functions return $S$ and $R$ of size $n \\times m$, so they can be added to $-2G$ to get $D^2$.\n",
    "\n",
    "The values in each row of $S$ and the values in each column of $R$ do not change! This is also apparent when considering that $S_{ij} = \\mathbf{x}_i \\mathbf{x}_i^\\top$ _for all $j$_; similar argument for $R_{ij} = \\mathbf{z}_j \\mathbf{z}_j^\\top$ _for all $i$_.\n",
    "$$\n",
    "S = \\begin{bmatrix}\n",
    "\\mathbf{x}_1 \\mathbf{x}_1^\\top & \\mathbf{x}_1 \\mathbf{x}_1^\\top & \\cdots & \\mathbf{x}_1 \\mathbf{x}_1^\\top\\\\\n",
    "\\mathbf{x}_2 \\mathbf{x}_2^\\top & \\mathbf{x}_2 \\mathbf{x}_2^\\top & \\cdots & \\mathbf{x}_2 \\mathbf{x}_2^\\top\\\\\n",
    "\\vdots & \\vdots & \\ddots & \\vdots\\\\\n",
    "\\mathbf{x}_n \\mathbf{x}_n^\\top & \\mathbf{x}_n \\mathbf{x}_n^\\top & \\cdots & \\mathbf{x}_n \\mathbf{x}_n^\\top\\\\\n",
    "\\end{bmatrix}, \\ \n",
    "R = \\begin{bmatrix}\n",
    "\\mathbf{z}_1 \\mathbf{z}_1^\\top & \\mathbf{z}_2 \\mathbf{z}_2^\\top & \\cdots & \\mathbf{z}_m \\mathbf{z}_m^\\top\\\\\n",
    "\\mathbf{z}_1 \\mathbf{z}_1^\\top & \\mathbf{z}_2 \\mathbf{z}_2^\\top & \\cdots & \\mathbf{z}_m \\mathbf{z}_m^\\top\\\\\n",
    "\\vdots & \\vdots & \\ddots & \\vdots\\\\\n",
    "\\mathbf{z}_1 \\mathbf{z}_1^\\top & \\mathbf{z}_2 \\mathbf{z}_2^\\top & \\cdots & \\mathbf{z}_m \\mathbf{z}_m^\\top\\\\\n",
    "\\end{bmatrix}.\n",
    "$$"
   ]
  },
  {
   "cell_type": "code",
   "execution_count": 6,
   "metadata": {
    "deletable": false,
    "id": "g_W276YYAfbF",
    "nbgrader": {
     "checksum": "57863e0429bf9183b3e59645dc7d1aa5",
     "grade": false,
     "grade_id": "cell-ad35945b84010be6",
     "locked": false,
     "schema_version": 1,
     "solution": true
    }
   },
   "outputs": [],
   "source": [
    "def calculate_S(X, n, m):\n",
    "    '''\n",
    "    function calculate_S(X)\n",
    "    \n",
    "    Computes the S matrix.\n",
    "    Syntax:\n",
    "    S=calculate_S(X)\n",
    "    Input:\n",
    "    X: nxd data matrix with n vectors (rows) of dimensionality d\n",
    "    n: number of rows in X\n",
    "    m: output number of columns in S\n",
    "    \n",
    "    Output:\n",
    "    Matrix S of size nxm\n",
    "    S[i,j] is the inner-product between vectors X[i,:] and X[i,:]\n",
    "    '''\n",
    "    assert n == X.shape[0]\n",
    "    \n",
    "    # S Matrix\n",
    "    # S has identical columns all the way across (need to find one column, n x 1)\n",
    "    # (each of the n rows is filled with m repeats of the same value, (xi)(xi).T\n",
    "    \n",
    "    # To find this column which will be repeated across the S matrix, I can take the dot product of X and X-transpose.\n",
    "    # The diagonal of this nxn matrix contains the elements I need, since the indices need to match: (xi)(xi).T\n",
    "    col = (X @ X.T).diagonal()\n",
    "    #print(col)\n",
    "    \n",
    "    # This mechanism (below) creates a matrix with a repeated column\n",
    "    S = np.array([col]*m).T \n",
    "    return S\n",
    "    "
   ]
  },
  {
   "cell_type": "code",
   "execution_count": 7,
   "metadata": {
    "colab": {
     "base_uri": "https://localhost:8080/"
    },
    "executionInfo": {
     "elapsed": 172,
     "status": "ok",
     "timestamp": 1653000386483,
     "user": {
      "displayName": "Emily Carroll",
      "userId": "09649305878166807673"
     },
     "user_tz": 420
    },
    "id": "0AwpgJnrAfbG",
    "outputId": "a14c9005-7318-4c8c-e864-0aca3755575b"
   },
   "outputs": [
    {
     "data": {
      "text/plain": [
       "array([[ 5,  5,  5],\n",
       "       [25, 25, 25]])"
      ]
     },
     "execution_count": 7,
     "metadata": {},
     "output_type": "execute_result"
    }
   ],
   "source": [
    "# Simple test case\n",
    "# X = [[1,2],[3,4]]\n",
    "# Z = [[1,4],[2,5],[3,6]]\n",
    "\n",
    "calculate_S(X,2,3)"
   ]
  },
  {
   "cell_type": "code",
   "execution_count": 8,
   "metadata": {
    "deletable": false,
    "id": "86E09S9HAfbG",
    "nbgrader": {
     "checksum": "21ee417f3e7e3a4af6e9ac5069836448",
     "grade": false,
     "grade_id": "cell-71bac061cc8edccb",
     "locked": false,
     "schema_version": 1,
     "solution": true
    }
   },
   "outputs": [],
   "source": [
    "def calculate_R(Z, n, m):\n",
    "    '''\n",
    "    function calculate_R(Z)\n",
    "    \n",
    "    Computes the R matrix.\n",
    "    Syntax:\n",
    "    R=calculate_R(Z)\n",
    "    Input:\n",
    "    Z: mxd data matrix with m vectors (rows) of dimensionality d\n",
    "    n: output number of rows in Z\n",
    "    m: number of rows in Z\n",
    "    \n",
    "    Output:\n",
    "    Matrix R of size nxm\n",
    "    R[i,j] is the inner-product between vectors Z[j,:] and Z[j,:]\n",
    "    '''\n",
    "    assert m == Z.shape[0]\n",
    "    \n",
    "    # R Matrix\n",
    "    # R has identical rows all the way down (need to find one row, 1 x m)\n",
    "    # (each of the m columns is filled with n repeats of the same value, (zj)(zj).T\n",
    "    \n",
    "    # The same logic applies here as in the S matrix calculation. I want to find a single row of values which will\n",
    "    # be repeated for the whole R matrix.\n",
    "    row = (Z @ Z.T).diagonal()\n",
    "    \n",
    "    R = np.array([row]*n)\n",
    "    return R"
   ]
  },
  {
   "cell_type": "code",
   "execution_count": 9,
   "metadata": {
    "colab": {
     "base_uri": "https://localhost:8080/"
    },
    "executionInfo": {
     "elapsed": 172,
     "status": "ok",
     "timestamp": 1653000394306,
     "user": {
      "displayName": "Emily Carroll",
      "userId": "09649305878166807673"
     },
     "user_tz": 420
    },
    "id": "Wk48SEWQAfbG",
    "outputId": "a0b41225-c360-4f72-a9cf-600e8f7e28ee"
   },
   "outputs": [
    {
     "data": {
      "text/plain": [
       "array([[17, 29, 45],\n",
       "       [17, 29, 45]])"
      ]
     },
     "execution_count": 9,
     "metadata": {},
     "output_type": "execute_result"
    }
   ],
   "source": [
    "# Simple test case\n",
    "# X = [[1,2],[3,4]]\n",
    "# Z = [[1,4],[2,5],[3,6]]\n",
    "calculate_R(Z,2,3)"
   ]
  },
  {
   "cell_type": "markdown",
   "metadata": {
    "deletable": false,
    "editable": false,
    "id": "UJ9TjMV6AfbH",
    "nbgrader": {
     "checksum": "acc986cc14b34fd612c9e0e2e0467fb7",
     "grade": false,
     "grade_id": "cell-f60131523293838d",
     "locked": true,
     "schema_version": 1,
     "solution": false
    }
   },
   "source": [
    "<h3>Implement <code>l2distance</code></h3>\n",
    "\n",
    "$$\n",
    "D^2_{ij}=(\\mathbf{x}_i-\\mathbf{z}_j)(\\mathbf{x}_i-\\mathbf{z}_j)^\\top, \\ D^2 = S + R - 2G\n",
    "$$\n",
    "    \n",
    "<p> The above formula calculates the function <strong><code>l2distance</code></strong>, which computes the Euclidean distance matrix $D$ without a single loop. </p>\n",
    "\n",
    "<p><strong>Note</strong>: Sometimes very small positive numbers can become negative due to <em>numerical imprecision</em>. Knowing that all distances must always be non-negative, all negative values are overwritten as 0.0 to avoid unintended consequences. </p>"
   ]
  },
  {
   "cell_type": "code",
   "execution_count": 10,
   "metadata": {
    "deletable": false,
    "id": "ccCTnA4wAfbH",
    "nbgrader": {
     "checksum": "f979bdfb91b4904a15f330e26efd3ee8",
     "grade": false,
     "grade_id": "cell-l2distance",
     "locked": false,
     "schema_version": 1,
     "solution": true
    }
   },
   "outputs": [],
   "source": [
    "def l2distance(X,Z=None):\n",
    "    '''\n",
    "    function D=l2distance(X,Z)\n",
    "    \n",
    "    Computes the Euclidean distance matrix.\n",
    "    Syntax:\n",
    "    D=l2distance(X,Z)\n",
    "    Input:\n",
    "    X: nxd data matrix with n vectors (rows) of dimensionality d\n",
    "    Z: mxd data matrix with m vectors (rows) of dimensionality d\n",
    "    \n",
    "    Output:\n",
    "    Matrix D of size nxm\n",
    "    D(i,j) is the Euclidean distance of X(i,:) and Z(j,:)\n",
    "    \n",
    "    call with only one input:\n",
    "    l2distance(X)=l2distance(X,X)\n",
    "    '''\n",
    "    if Z is None:\n",
    "        Z=X;\n",
    "\n",
    "    n,d1=X.shape\n",
    "    m,d2=Z.shape\n",
    "    assert (d1==d2), \"Dimensions of input vectors must match!\"\n",
    "    \n",
    "    # D^2 = S + R - 2G\n",
    "    \n",
    "    S = calculate_S(X,n,m)\n",
    "    R = calculate_R(Z,n,m)\n",
    "    G = innerproduct(X,Z)\n",
    "    \n",
    "    D_squared = S + R - 2*G\n",
    "    \n",
    "    # D Matrix\n",
    "    # need to get rid of negative values in D^2 and take the square root\n",
    "    \n",
    "    # (1) D_squared.shape : finds the dimensions of the D_squared matrix (nxm)\n",
    "    # (2) np.zeros(1) : creates an nxm matrix of all 0s\n",
    "    # (3) np.maximum(D_squared,2) : Compares each value in the D_squared matrix to 0, and chooses the higher of the \n",
    "    # two values. If there are negative values in D_squared, 0 will be greater than that value and will be chosen.\n",
    "    # (4) np.sqrt(3) : take square root of all elements in D_squared matrix\n",
    "    \n",
    "    D = np.sqrt(np.maximum(D_squared,np.zeros(D_squared.shape)))\n",
    "    return D"
   ]
  },
  {
   "cell_type": "code",
   "execution_count": 11,
   "metadata": {
    "colab": {
     "base_uri": "https://localhost:8080/"
    },
    "executionInfo": {
     "elapsed": 177,
     "status": "ok",
     "timestamp": 1653000537814,
     "user": {
      "displayName": "Emily Carroll",
      "userId": "09649305878166807673"
     },
     "user_tz": 420
    },
    "id": "tANPWNRnAfbI",
    "outputId": "c2a12f07-752c-4e90-e25f-6f52b922dab2"
   },
   "outputs": [
    {
     "data": {
      "text/plain": [
       "array([[2.        , 3.16227766, 4.47213595],\n",
       "       [2.        , 1.41421356, 2.        ]])"
      ]
     },
     "execution_count": 11,
     "metadata": {},
     "output_type": "execute_result"
    }
   ],
   "source": [
    "# Simple test case\n",
    "# X = [[1,2],[3,4]]\n",
    "# Z = [[1,4],[2,5],[3,6]]\n",
    "l2distance(X,Z)"
   ]
  },
  {
   "cell_type": "markdown",
   "metadata": {
    "deletable": false,
    "editable": false,
    "id": "qHxRiotKAfbJ",
    "nbgrader": {
     "checksum": "23155cfba2b619f77d887de2dfb9bd3f",
     "grade": false,
     "grade_id": "cell-aea442b17bc8042e",
     "locked": true,
     "schema_version": 1,
     "solution": false
    }
   },
   "source": [
    "Let's now compare the speed of your l2-distance function against the previous naïve implementation:"
   ]
  },
  {
   "cell_type": "code",
   "execution_count": 12,
   "metadata": {
    "colab": {
     "base_uri": "https://localhost:8080/"
    },
    "executionInfo": {
     "elapsed": 46426,
     "status": "ok",
     "timestamp": 1653000596444,
     "user": {
      "displayName": "Emily Carroll",
      "userId": "09649305878166807673"
     },
     "user_tz": 420
    },
    "id": "ASdpRRjlAfbJ",
    "outputId": "22be16a6-a728-493b-84ab-0171560f8ea5"
   },
   "outputs": [
    {
     "name": "stdout",
     "output_type": "stream",
     "text": [
      "Running the naïve version...\n",
      "34362 ms\n",
      "Running the vectorized version...\n",
      "21 ms\n",
      "The two methods should deviate by very little: 0.000000\n",
      "but your NumPy code was 1636.29 times faster!\n"
     ]
    }
   ],
   "source": [
    "import time\n",
    "current_time = lambda: int(round(time.time() * 1000))\n",
    "\n",
    "X=np.random.rand(700,100)\n",
    "Z=np.random.rand(300,100)\n",
    "\n",
    "print(\"Running the naïve version...\")\n",
    "before = current_time()\n",
    "Dslow=l2distanceSlow(X)\n",
    "after = current_time()\n",
    "t_slow = after - before\n",
    "print(\"{:2.0f} ms\".format(t_slow))\n",
    "\n",
    "print(\"Running the vectorized version...\")\n",
    "before = current_time()\n",
    "Dfast=l2distance(X)\n",
    "after = current_time()\n",
    "t_fast = after - before\n",
    "print(\"{:2.0f} ms\".format(t_fast))\n",
    "\n",
    "\n",
    "speedup = t_slow / t_fast\n",
    "print(\"The two methods should deviate by very little: {:05.6f}\".format(norm(Dfast-Dslow)))\n",
    "print(\"but your NumPy code was {:05.2f} times faster!\".format(speedup))"
   ]
  },
  {
   "cell_type": "markdown",
   "metadata": {
    "deletable": false,
    "editable": false,
    "id": "YEXRuVAOAfbK",
    "nbgrader": {
     "checksum": "aed590efa6e1795b5d3ab26bc53b8577",
     "grade": false,
     "grade_id": "cell-ac9dc5c3b6c424f3",
     "locked": true,
     "schema_version": 1,
     "solution": false
    }
   },
   "source": [
    "How much faster is your code now? With this implementation, you should easily be able to compute the distances between <strong>many more</strong> vectors. It should be clear now, even for small datasets, that the for-loop based implementation could take several days or even weeks to perform basic operations that take seconds or minutes with well-written NumPy code."
   ]
  }
 ],
 "metadata": {
  "anaconda-cloud": {},
  "colab": {
   "name": "Euclidean Distance Function Without Loops .ipynb",
   "provenance": []
  },
  "kernelspec": {
   "display_name": "Python 3 (ipykernel)",
   "language": "python",
   "name": "python3"
  },
  "language_info": {
   "codemirror_mode": {
    "name": "ipython",
    "version": 3
   },
   "file_extension": ".py",
   "mimetype": "text/x-python",
   "name": "python",
   "nbconvert_exporter": "python",
   "pygments_lexer": "ipython3",
   "version": "3.9.12"
  }
 },
 "nbformat": 4,
 "nbformat_minor": 1
}
